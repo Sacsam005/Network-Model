{
  "nbformat": 4,
  "nbformat_minor": 0,
  "metadata": {
    "colab": {
      "name": "Network Model.ipynb",
      "provenance": [],
      "collapsed_sections": [],
      "authorship_tag": "ABX9TyMhq1mq8q/qXU03nunjr3lb",
      "include_colab_link": true
    },
    "kernelspec": {
      "name": "python3",
      "display_name": "Python 3"
    },
    "language_info": {
      "name": "python"
    }
  },
  "cells": [
    {
      "cell_type": "markdown",
      "metadata": {
        "id": "view-in-github",
        "colab_type": "text"
      },
      "source": [
        "<a href=\"https://colab.research.google.com/github/Sacsam005/Network-Model/blob/main/Network_Model.ipynb\" target=\"_parent\"><img src=\"https://colab.research.google.com/assets/colab-badge.svg\" alt=\"Open In Colab\"/></a>"
      ]
    },
    {
      "cell_type": "markdown",
      "metadata": {
        "id": "tyFvzv_djNWw"
      },
      "source": [
        "# **OPERATIONS RESEARCH**"
      ]
    },
    {
      "cell_type": "markdown",
      "metadata": {
        "id": "92wkrOTjh8ot"
      },
      "source": [
        "## **NETWORK MODEL**\n",
        "\n",
        "  In this project, we will be writing a chapter on Network Model for Operations Research.  \n"
      ]
    },
    {
      "cell_type": "markdown",
      "metadata": {
        "id": "2zIO8oLPlrfu"
      },
      "source": [
        "## **CHAPTER ONE**\n",
        "\n",
        "*WORKING ON IT...*\n",
        "\n"
      ]
    },
    {
      "cell_type": "markdown",
      "metadata": {
        "id": "qUjLRtpJh829"
      },
      "source": [
        "# **REFERENCES**\n",
        "\n",
        ">- Bradley, Hax, and Magnanti. Network Models. Applied Mathematical Programming. Addison – Wesley, 1977. http://web.mit.edu/15.053/www/AMP.htm. Accessed 16 Sep 2021. \n",
        ">- Barua, Saurav. (2019). Operation Research Problems Solving in Python. 10.13140/RG.2.2.20719.38565. https://www.researchgate.net/publication/335572221_Operation_Research_Problems_Solving_in_Python. Accessed 18 Sep 2021.\n",
        ">- Taha, H. A. (2017). Network Model). In Operations research: An introduction (10th ed.). pp. 220, 225, 235, Pearson. Accessed 19 Sept 2021.\n"
      ]
    },
    {
      "cell_type": "markdown",
      "metadata": {
        "id": "uCnxpxSil4IV"
      },
      "source": [
        "# **PROBLEMS**\n",
        "\n",
        "*WORKING ON IT*..."
      ]
    },
    {
      "cell_type": "markdown",
      "metadata": {
        "id": "Ylz68cn4mGOG"
      },
      "source": [
        "# **PROJECT IDEAS**\n",
        "\n",
        ">During our academic career, we were given a bunch of topics to select from, out of which we as a team chose to work on Network Model for Operations research. This is because we were so fascinated by this topic and the idea of network science, we wanted to explore the diversity, history and culture of this model. This really got us going."
      ]
    },
    {
      "cell_type": "markdown",
      "metadata": {
        "id": "QrMPtdSHnfs0"
      },
      "source": [
        "## **AUTHORS**\n",
        "\n",
        "> Pricipal author of this chapter were: **Sachin Samal, Prakash Silwal, Watan Chaudhary.**\n",
        "\n",
        "> Contributions were also made by: **Dr. Nicholas Jacob, PhD, University of Missouri, 2013.**"
      ]
    }
  ]
}