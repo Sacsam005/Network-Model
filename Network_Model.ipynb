{
  "nbformat": 4,
  "nbformat_minor": 0,
  "metadata": {
    "colab": {
      "name": "Network Model.ipynb",
      "provenance": [],
      "collapsed_sections": [],
      "authorship_tag": "ABX9TyNqIB8z+hqRIY/wx++57FD0",
      "include_colab_link": true
    },
    "kernelspec": {
      "name": "python3",
      "display_name": "Python 3"
    },
    "language_info": {
      "name": "python"
    }
  },
  "cells": [
    {
      "cell_type": "markdown",
      "metadata": {
        "id": "view-in-github",
        "colab_type": "text"
      },
      "source": [
        "<a href=\"https://colab.research.google.com/github/Sacsam005/Network-Model/blob/main/Network_Model.ipynb\" target=\"_parent\"><img src=\"https://colab.research.google.com/assets/colab-badge.svg\" alt=\"Open In Colab\"/></a>"
      ]
    },
    {
      "cell_type": "markdown",
      "metadata": {
        "id": "tyFvzv_djNWw"
      },
      "source": [
        "# **OPERATIONS RESEARCH**"
      ]
    },
    {
      "cell_type": "markdown",
      "metadata": {
        "id": "92wkrOTjh8ot"
      },
      "source": [
        "#**NETWORK MODEL**\n",
        "\n",
        ">In this project, we will be writing a chapter on Network Model for Operations Research.  \n",
        "\n",
        ">We can represent many problems in computer science by the help of graphs which consists of nodes & links between them. Here, Network flow problems can be taken as an example, as it involves the transportation of goods and material across a network like railway system. We can represent a network flow with the help of graph whose nodes are cities & whose arcs are rail lines between them. They are called flows because they possess same property of the water which are flowing through a network of pipes.\n",
        "\n",
        ">Each arc has a capacity in network flow which means the maximum amount that can be transported across the arc in a fixed period. To determine the maximum a total amount fan that can be transported across all arcs in the network, subject to the capacity constraint is the maximum flow problem.\n"
      ]
    },
    {
      "cell_type": "markdown",
      "metadata": {
        "id": "2zIO8oLPlrfu"
      },
      "source": [
        "# **CHAPTER ONE**\n",
        "\n",
        "###**1. Shortest Route/Path Problem**\n",
        ">In Network Models, problems can be represented by many ways. Here, one of them is shortest route problems. Shortest route problem is a particular network model problem which has received a great deal of attention for both the practical and theoretical reasons. For instance, given a network with a distance associated with each arc, this network model helps us to find the shortest distance from origin (source) to the destination (which is called sink).\n",
        " \n",
        ">These problems can be formulated in real life problems like equipment replacement, capital, investment, project scheduling, and inventory planning. The theoretical interest of this problem is due to the efficient solution problems. Shortest route problems can be interpreted as a network problem very easily. \n",
        "\n",
        "\n"
      ]
    },
    {
      "cell_type": "markdown",
      "metadata": {
        "id": "uCnxpxSil4IV"
      },
      "source": [
        "# **PROBLEMS**\n",
        "\n",
        "*WORKING ON IT*..."
      ]
    },
    {
      "cell_type": "markdown",
      "metadata": {
        "id": "Ylz68cn4mGOG"
      },
      "source": [
        "# **PROJECT IDEAS**\n",
        "\n",
        ">During our academic career, we were given a bunch of topics to select from, out of which we as a team chose to work on Network Model for Operations research. This is because we were so fascinated by this topic and the idea of network science, we wanted to explore the diversity, history and culture of this model. This really got us going."
      ]
    },
    {
      "cell_type": "markdown",
      "metadata": {
        "id": "qUjLRtpJh829"
      },
      "source": [
        "# **REFERENCES**\n",
        "\n",
        ">- Bradley, Hax, and Magnanti. Network Models. Applied Mathematical Programming. Addison – Wesley, 1977. http://web.mit.edu/15.053/www/AMP.htm. Accessed 16 Sep 2021. \n",
        ">- Barua, Saurav. (2019). Operation Research Problems Solving in Python. 10.13140/RG.2.2.20719.38565. https://www.researchgate.net/publication/335572221_Operation_Research_Problems_Solving_in_Python. Accessed 18 Sep 2021.\n",
        ">- Taha, H. A. (2017). Network Model). In Operations research: An introduction (10th ed.). pp. 220, 225, 235, Pearson. Accessed 19 Sept 2021.\n"
      ]
    },
    {
      "cell_type": "markdown",
      "metadata": {
        "id": "QrMPtdSHnfs0"
      },
      "source": [
        "## **AUTHORS**\n",
        "\n",
        "> Principal author of this chapter were: **Sachin Samal, Prakash Silwal, Watan Chaudhary.**\n",
        "\n",
        "> Contributions were also made by: **Dr. Nicholas Jacob, PhD, University of Missouri, 2013.**"
      ]
    }
  ]
}